{
  "nbformat": 4,
  "nbformat_minor": 0,
  "metadata": {
    "colab": {
      "provenance": [],
      "gpuType": "T4"
    },
    "kernelspec": {
      "name": "python3",
      "display_name": "Python 3"
    },
    "language_info": {
      "name": "python"
    },
    "accelerator": "GPU"
  },
  "cells": [
    {
      "cell_type": "code",
      "execution_count": 23,
      "metadata": {
        "colab": {
          "base_uri": "https://localhost:8080/"
        },
        "id": "63Zc0Vn9NmQn",
        "outputId": "e4b9f2ad-e38e-49c4-d927-92a7a8abce23"
      },
      "outputs": [
        {
          "output_type": "stream",
          "name": "stdout",
          "text": [
            "Overwriting phonebook_search.cu\n"
          ]
        }
      ],
      "source": [
        "%%writefile phonebook_search.cu\n",
        "#include <bits/stdc++.h>\n",
        "using namespace std;\n",
        "#include <cuda.h>\n",
        "\n",
        "struct Contact{\n",
        "    char ind[65];\n",
        "    char name[65];\n",
        "    char phone_number[65];\n",
        "};\n",
        "\n",
        "\n",
        "string getInput(ifstream& file){\n",
        "    string ans;\n",
        "    char c;\n",
        "    int readSuru = 0;\n",
        "    while(file.get(c)){\n",
        "        if(c == '\\\"'){\n",
        "            if(readSuru == 1) break;\n",
        "            readSuru = 1;\n",
        "        }else{\n",
        "            if(readSuru){\n",
        "                ans.push_back(c);\n",
        "            }\n",
        "        }\n",
        "    }\n",
        "    return ans;\n",
        "}\n",
        "\n",
        "__device__ bool check(char* str1, char* str2){\n",
        "    for(int i = 0; str1[i] != '\\0'; i++){\n",
        "        int flag = 1;\n",
        "        for(int j = 0; str2[j] != '\\0' ; j++){\n",
        "            if(str1[i + j] != str2[j]){\n",
        "                flag = 0;\n",
        "                break;\n",
        "            }\n",
        "        }\n",
        "        if(flag == 1) return true;\n",
        "    }\n",
        "    return false;\n",
        "}\n",
        "\n",
        "\n",
        "__global__ void myKernel(Contact* phoneBook, char* pat, int offset){\n",
        "    int threadNumber = threadIdx.x + offset;\n",
        "    if(check(phoneBook[threadNumber].name, pat)){\n",
        "        printf(\"%s %s %s\\n\", phoneBook[threadNumber].ind, phoneBook[threadNumber].name, phoneBook[threadNumber].phone_number);\n",
        "    }\n",
        "}\n",
        "\n",
        "\n",
        "\n",
        "int main(int argc, char* argv[])\n",
        "{\n",
        "    int threadLimit = atoi(argv[2]);\n",
        "\n",
        "    ifstream myfile(\"/content/text_input\");\n",
        "    vector<Contact> phoneBook;\n",
        "\n",
        "\n",
        "    while(myfile.peek() != EOF){\n",
        "\n",
        "        string ind = getInput(myfile);\n",
        "        string name = getInput(myfile);\n",
        "        string phoneNum = getInput(myfile);\n",
        "\n",
        "        Contact c;\n",
        "        strcpy(c.ind, ind.c_str());\n",
        "        strcpy(c.name, name.c_str());\n",
        "        strcpy(c.phone_number, phoneNum.c_str());\n",
        "\n",
        "        phoneBook.push_back(c);\n",
        "    }\n",
        "\n",
        "    string search_name = argv[1];\n",
        "    char pat[65];\n",
        "    strcpy(pat, search_name.c_str());\n",
        "\n",
        "\n",
        "    char* d_pat;\n",
        "    cudaMalloc(&d_pat, 65); //memory allocation\n",
        "    cudaMemcpy(d_pat, pat, 65, cudaMemcpyHostToDevice); //copying to device\n",
        "\n",
        "    int n = phoneBook.size();\n",
        "    Contact* d_phoneBook;\n",
        "    cudaMalloc(&d_phoneBook, n*sizeof(Contact));\n",
        "    cudaMemcpy(d_phoneBook, phoneBook.data(), n * sizeof(Contact), cudaMemcpyHostToDevice);\n",
        "\n",
        "\n",
        "    int bakiAche = n;\n",
        "    int offset = 0;\n",
        "    while(bakiAche > 0){\n",
        "        int batchSize = min(threadLimit, bakiAche);\n",
        "        myKernel<<<1,batchSize>>>(d_phoneBook, d_pat, offset);\n",
        "        cudaDeviceSynchronize();\n",
        "\n",
        "        bakiAche -= batchSize;\n",
        "        offset += batchSize;\n",
        "    }\n",
        "\n",
        "}"
      ]
    },
    {
      "cell_type": "code",
      "source": [
        "!nvcc -arch=sm_75 phonebook_search.cu -o asif"
      ],
      "metadata": {
        "id": "GN6U_7UbP_m_"
      },
      "execution_count": 24,
      "outputs": []
    },
    {
      "cell_type": "code",
      "source": [
        "!time ./asif TANIA 1 > output.txt"
      ],
      "metadata": {
        "colab": {
          "base_uri": "https://localhost:8080/"
        },
        "id": "CF--zX4oQlrW",
        "outputId": "9b0faa68-3530-47b9-fa94-e384e6897fb2"
      },
      "execution_count": 25,
      "outputs": [
        {
          "output_type": "stream",
          "name": "stdout",
          "text": [
            "\n",
            "real\t0m0.130s\n",
            "user\t0m0.020s\n",
            "sys\t0m0.105s\n"
          ]
        }
      ]
    },
    {
      "cell_type": "code",
      "source": [
        "!time ./asif TANIA 2 > output.txt"
      ],
      "metadata": {
        "colab": {
          "base_uri": "https://localhost:8080/"
        },
        "id": "mHy-pSPHHmc-",
        "outputId": "0dc7d05b-6e1e-4594-9860-87ade15ec508"
      },
      "execution_count": 10,
      "outputs": [
        {
          "output_type": "stream",
          "name": "stdout",
          "text": [
            "\n",
            "real\t0m4.389s\n",
            "user\t0m4.128s\n",
            "sys\t0m0.235s\n"
          ]
        }
      ]
    },
    {
      "cell_type": "code",
      "source": [
        "!time ./asif TANIA 3 > output.txt"
      ],
      "metadata": {
        "colab": {
          "base_uri": "https://localhost:8080/"
        },
        "id": "CLJBVpt9HrY7",
        "outputId": "8a52bf81-8ed7-4c85-f960-e48d7aa1a1d2"
      },
      "execution_count": 11,
      "outputs": [
        {
          "output_type": "stream",
          "name": "stdout",
          "text": [
            "\n",
            "real\t0m3.866s\n",
            "user\t0m3.505s\n",
            "sys\t0m0.289s\n"
          ]
        }
      ]
    },
    {
      "cell_type": "code",
      "source": [
        "!time ./asif TANIA 5 > output.txt"
      ],
      "metadata": {
        "colab": {
          "base_uri": "https://localhost:8080/"
        },
        "id": "J97Uam-JHvbD",
        "outputId": "931ce2ac-c6fa-47bf-acb1-bce153c51c68"
      },
      "execution_count": 12,
      "outputs": [
        {
          "output_type": "stream",
          "name": "stdout",
          "text": [
            "\n",
            "real\t0m2.565s\n",
            "user\t0m2.342s\n",
            "sys\t0m0.216s\n"
          ]
        }
      ]
    },
    {
      "cell_type": "code",
      "source": [
        "!time ./asif TANIA 10 > output.txt"
      ],
      "metadata": {
        "colab": {
          "base_uri": "https://localhost:8080/"
        },
        "id": "QKiSus8qHyzK",
        "outputId": "6c76dcd6-7322-413e-e411-0d2f93e5e943"
      },
      "execution_count": 13,
      "outputs": [
        {
          "output_type": "stream",
          "name": "stdout",
          "text": [
            "\n",
            "real\t0m1.939s\n",
            "user\t0m1.706s\n",
            "sys\t0m0.228s\n"
          ]
        }
      ]
    }
  ]
}